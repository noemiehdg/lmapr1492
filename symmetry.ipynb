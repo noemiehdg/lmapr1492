{
 "cells": [
  {
   "cell_type": "markdown",
   "id": "alternate-profession",
   "metadata": {},
   "source": [
    "SYMMETRY - Tâche 6\n",
    "==========\n",
    "Étude de l'effet de 3 éléments de symétrie différents"
   ]
  },
  {
   "cell_type": "code",
   "execution_count": 34,
   "id": "champion-birth",
   "metadata": {},
   "outputs": [],
   "source": [
    "from pymatgen.ext.matproj import MPRester\n",
    "from pymatgen.symmetry.analyzer import SpacegroupAnalyzer\n",
    "from pprint import pprint\n",
    "from pymatgen.io.cif import CifWriter\n",
    "from pymatgen import Structure\n",
    "from pymatgen import symmetry\n",
    "from pymatgen.core.operations import SymmOp\n",
    "from IPython.display import Image\n",
    "from jupyter_jsmol.pymatgen import quick_view"
   ]
  },
  {
   "cell_type": "code",
   "execution_count": 57,
   "id": "authentic-guatemala",
   "metadata": {},
   "outputs": [
    {
     "name": "stdout",
     "output_type": "stream",
     "text": [
      "[PeriodicSite: Li (1.9455, 1.1232, 3.0894) [0.3333, 0.6667, 0.1667], PeriodicSite: Li (3.8910, -0.0000, 9.2683) [1.0000, 1.0000, 0.5000], PeriodicSite: Li (1.9455, -1.1232, 15.4472) [0.6667, 0.3333, 0.8333], PeriodicSite: Ho (0.0000, 0.0000, 0.0000) [0.0000, 0.0000, 0.0000], PeriodicSite: Ho (1.9455, -1.1232, 6.1789) [0.6667, 0.3333, 0.3333], PeriodicSite: Ho (1.9455, 1.1232, 12.3577) [0.3333, 0.6667, 0.6667], PeriodicSite: S (0.0000, 0.0000, 4.6386) [0.0000, 0.0000, 0.2502], PeriodicSite: S (1.9455, -1.1232, 1.5402) [0.6667, 0.3333, 0.0831], PeriodicSite: S (1.9455, -1.1232, 10.8175) [0.6667, 0.3333, 0.5836], PeriodicSite: S (1.9455, 1.1232, 7.7191) [0.3333, 0.6667, 0.4164], PeriodicSite: S (1.9455, 1.1232, 16.9964) [0.3333, 0.6667, 0.9169], PeriodicSite: S (0.0000, 0.0000, 13.8980) [0.0000, 0.0000, 0.7498]]\n",
      "[Rot:\n",
      "[[1. 0. 0.]\n",
      " [0. 1. 0.]\n",
      " [0. 0. 1.]]\n",
      "tau\n",
      "[0. 0. 0.], Rot:\n",
      "[[-1.  0.  0.]\n",
      " [ 0. -1.  0.]\n",
      " [ 0.  0. -1.]]\n",
      "tau\n",
      "[0. 0. 0.], Rot:\n",
      "[[0. 1. 0.]\n",
      " [0. 0. 1.]\n",
      " [1. 0. 0.]]\n",
      "tau\n",
      "[0. 0. 0.], Rot:\n",
      "[[ 0. -1.  0.]\n",
      " [ 0.  0. -1.]\n",
      " [-1.  0.  0.]]\n",
      "tau\n",
      "[0. 0. 0.], Rot:\n",
      "[[0. 0. 1.]\n",
      " [1. 0. 0.]\n",
      " [0. 1. 0.]]\n",
      "tau\n",
      "[0. 0. 0.], Rot:\n",
      "[[ 0.  0. -1.]\n",
      " [-1.  0.  0.]\n",
      " [ 0. -1.  0.]]\n",
      "tau\n",
      "[0. 0. 0.], Rot:\n",
      "[[ 0.  0. -1.]\n",
      " [ 0. -1.  0.]\n",
      " [-1.  0.  0.]]\n",
      "tau\n",
      "[0. 0. 0.], Rot:\n",
      "[[0. 0. 1.]\n",
      " [0. 1. 0.]\n",
      " [1. 0. 0.]]\n",
      "tau\n",
      "[0. 0. 0.], Rot:\n",
      "[[-1.  0.  0.]\n",
      " [ 0.  0. -1.]\n",
      " [ 0. -1.  0.]]\n",
      "tau\n",
      "[0. 0. 0.], Rot:\n",
      "[[1. 0. 0.]\n",
      " [0. 0. 1.]\n",
      " [0. 1. 0.]]\n",
      "tau\n",
      "[0. 0. 0.], Rot:\n",
      "[[ 0. -1.  0.]\n",
      " [-1.  0.  0.]\n",
      " [ 0.  0. -1.]]\n",
      "tau\n",
      "[0. 0. 0.], Rot:\n",
      "[[0. 1. 0.]\n",
      " [1. 0. 0.]\n",
      " [0. 0. 1.]]\n",
      "tau\n",
      "[0. 0. 0.]]\n"
     ]
    }
   ],
   "source": [
    "#Obtenir informations sur le matériau (structure) et materials project id\n",
    "with MPRester(\"k7Oj07sVAFLX1l2ahe\") as m:\n",
    "    structure = m.get_structure_by_material_id(\"mp-15790\")\n",
    "    analyzer = SpacegroupAnalyzer(structure)\n",
    "    \n",
    "#Maille conventionnelle\n",
    "conven = analyzer.get_conventional_standard_structure()\n",
    "\n",
    "#On génère la liste des symétries (au nombre de 12)\n",
    "symetries_list = analyzer.get_symmetry_operations()\n",
    "\n",
    "#On génère aussi les positions de tous les atomes de la maille conventionnelle\n",
    "sites = conven.sites\n",
    "\n",
    "print(sites)\n",
    "print(symetries_list)"
   ]
  },
  {
   "cell_type": "markdown",
   "id": "hollow-hello",
   "metadata": {},
   "source": [
    "Symétrie 1\n",
    "---------------------------------\n",
    "\n"
   ]
  },
  {
   "cell_type": "code",
   "execution_count": 71,
   "id": "variable-panel",
   "metadata": {},
   "outputs": [
    {
     "name": "stdout",
     "output_type": "stream",
     "text": [
      "Symétrie de  -x, -y, -z\n",
      "La matrice de rotation est \n",
      " [[-1.  0.  0.]\n",
      " [ 0. -1.  0.]\n",
      " [ 0.  0. -1.]]\n",
      "Le vecteur de translation est \n",
      " [0. 0. 0.]\n"
     ]
    }
   ],
   "source": [
    "premiere_symetrie = symetries_list[1]\n",
    "\n",
    "print (\"Symétrie de \", premiere_symetrie.as_xyz_string())\n",
    "print (\"La matrice de rotation est \\n\", premiere_symetrie.rotation_matrix )\n",
    "print (\"Le vecteur de translation est \\n\", premiere_symetrie.translation_vector)"
   ]
  },
  {
   "cell_type": "markdown",
   "id": "pointed-growth",
   "metadata": {},
   "source": [
    "On va appliquer cette première symétrie à l'atome Ho situé aux coordonnées (0.6667, 0.3333, 0.3333). "
   ]
  },
  {
   "cell_type": "code",
   "execution_count": 43,
   "id": "israeli-manual",
   "metadata": {},
   "outputs": [
    {
     "name": "stdout",
     "output_type": "stream",
     "text": [
      "Coordonnées avant opération : [0.6667, 0.3333, 0.3333]\n",
      "Coordonnées après opération : [-0.6667 -0.3333 -0.3333]\n"
     ]
    }
   ],
   "source": [
    "atome_first = [0.6667, 0.3333, 0.3333]\n",
    "atomeaftersym1 = premiere_symetrie.operate(atome_first)\n",
    "\n",
    "print (\"Coordonnées avant opération :\", atome_first)\n",
    "print (\"Coordonnées après opération :\", atomeaftersym1)"
   ]
  },
  {
   "cell_type": "markdown",
   "id": "downtown-system",
   "metadata": {},
   "source": [
    "On est donc bien dans un symétrie d'inversion par rapport à l'origine. On a pu vérifier cette symétrie et trouver ses coordonnées images à partir de l'atome Ho. On va maintenant représenter cela avec jsmol."
   ]
  },
  {
   "cell_type": "code",
   "execution_count": 48,
   "id": "reverse-youth",
   "metadata": {},
   "outputs": [
    {
     "data": {
      "application/vnd.jupyter.widget-view+json": {
       "model_id": "42ba853f061d40f88c76cd62ef35f087",
       "version_major": 2,
       "version_minor": 0
      },
      "text/plain": [
       "JsmolView(layout=Layout(align_self='stretch', height='400px'))"
      ]
     },
     "metadata": {},
     "output_type": "display_data"
    }
   ],
   "source": [
    "view = quick_view(conven)\n",
    "display(view) \n",
    "view.script('draw SYMOP 2 {atomno=5}')"
   ]
  },
  {
   "cell_type": "markdown",
   "id": "rental-amplifier",
   "metadata": {},
   "source": [
    "Symétrie 2\n",
    "-------------"
   ]
  },
  {
   "cell_type": "code",
   "execution_count": 70,
   "id": "useful-integration",
   "metadata": {},
   "outputs": [
    {
     "name": "stdout",
     "output_type": "stream",
     "text": [
      "Symétrie de  -y, -x, -z\n",
      "La matrice de rotation est \n",
      " [[ 0. -1.  0.]\n",
      " [-1.  0.  0.]\n",
      " [ 0.  0. -1.]]\n",
      "Le vecteur de translation est \n",
      " [0. 0. 0.]\n"
     ]
    }
   ],
   "source": [
    "sec_sym = symetries_list[10]\n",
    "\n",
    "print (\"Symétrie de \", sec_sym.as_xyz_string())\n",
    "print (\"La matrice de rotation est \\n\", sec_sym.rotation_matrix )\n",
    "print (\"Le vecteur de translation est \\n\", sec_sym.translation_vector)"
   ]
  },
  {
   "cell_type": "markdown",
   "id": "expressed-dominant",
   "metadata": {},
   "source": [
    "Au vu des informations, on remarque qu'on est dans une symétrie de plan miroir par rapport à x et y.\n",
    "On applique la symétrie à l'atome numéro 9, S, situé aux coordonnées (0.6667, 0.3333, 0.5836).\n"
   ]
  },
  {
   "cell_type": "code",
   "execution_count": 66,
   "id": "tender-somerset",
   "metadata": {},
   "outputs": [
    {
     "name": "stdout",
     "output_type": "stream",
     "text": [
      "Coordonnées avant opération : [0.6667, 0.3333, 0.5836]\n",
      "Coordonnées après opération : [-0.3333 -0.6667 -0.5836]\n"
     ]
    }
   ],
   "source": [
    "atome_secon = [0.6667, 0.3333, 0.5836]\n",
    "atomeaftersym2 = sec_sym.operate(atome_secon)\n",
    "\n",
    "print (\"Coordonnées avant opération :\", atome_secon)\n",
    "print (\"Coordonnées après opération :\", atomeaftersym2)"
   ]
  },
  {
   "cell_type": "code",
   "execution_count": 67,
   "id": "vocational-benefit",
   "metadata": {},
   "outputs": [
    {
     "data": {
      "application/vnd.jupyter.widget-view+json": {
       "model_id": "82edac4c0fe34220ba9872265f89a169",
       "version_major": 2,
       "version_minor": 0
      },
      "text/plain": [
       "JsmolView(layout=Layout(align_self='stretch', height='400px'))"
      ]
     },
     "metadata": {},
     "output_type": "display_data"
    }
   ],
   "source": [
    "view = quick_view(conven)\n",
    "display(view) \n",
    "view.script('draw SYMOP 11  {atomno=9}')"
   ]
  },
  {
   "cell_type": "markdown",
   "id": "grand-albany",
   "metadata": {},
   "source": [
    "Symétrie 3\n",
    "---------------\n",
    "\n",
    "\n"
   ]
  },
  {
   "cell_type": "code",
   "execution_count": 69,
   "id": "indie-matrix",
   "metadata": {},
   "outputs": [
    {
     "name": "stdout",
     "output_type": "stream",
     "text": [
      "Symétrie de  z, y, x\n",
      "La matrice de rotation est \n",
      " [[0. 0. 1.]\n",
      " [0. 1. 0.]\n",
      " [1. 0. 0.]]\n",
      "Le vecteur de translation est \n",
      " [0. 0. 0.]\n"
     ]
    }
   ],
   "source": [
    "third_sym = symetries_list[7]\n",
    "\n",
    "print (\"Symétrie de \", third_sym.as_xyz_string())\n",
    "print (\"La matrice de rotation est \\n\", third_sym.rotation_matrix)\n",
    "print (\"Le vecteur de translation est \\n\", third_sym.translation_vector)"
   ]
  },
  {
   "cell_type": "markdown",
   "id": "hollow-quilt",
   "metadata": {},
   "source": [
    "On applique la symétrie à l'atome numéro 1, Li, situé aux coordonnées (0.3333, 0.6667, 0.1667)"
   ]
  },
  {
   "cell_type": "code",
   "execution_count": 72,
   "id": "personal-honolulu",
   "metadata": {},
   "outputs": [
    {
     "name": "stdout",
     "output_type": "stream",
     "text": [
      "Coordonnées avant opération : [0.3333, 0.6667, 0.1667]\n",
      "Coordonnées après opération : [-0.6667 -0.3333 -0.1667]\n"
     ]
    }
   ],
   "source": [
    "atome_third = [0.3333, 0.6667, 0.1667]\n",
    "atomeaftersym3 = sec_sym.operate(atome_third)\n",
    "\n",
    "print (\"Coordonnées avant opération :\", atome_third)\n",
    "print (\"Coordonnées après opération :\", atomeaftersym3)"
   ]
  },
  {
   "cell_type": "code",
   "execution_count": 73,
   "id": "detailed-daisy",
   "metadata": {},
   "outputs": [
    {
     "data": {
      "application/vnd.jupyter.widget-view+json": {
       "model_id": "921ea138c1114ef0b52610afc957e002",
       "version_major": 2,
       "version_minor": 0
      },
      "text/plain": [
       "JsmolView(layout=Layout(align_self='stretch', height='400px'))"
      ]
     },
     "metadata": {},
     "output_type": "display_data"
    }
   ],
   "source": [
    "view = quick_view(conven)\n",
    "display(view) \n",
    "view.script('draw SYMOP 8  {atomno=1}')"
   ]
  },
  {
   "cell_type": "code",
   "execution_count": null,
   "id": "satisfied-judge",
   "metadata": {},
   "outputs": [],
   "source": []
  }
 ],
 "metadata": {
  "kernelspec": {
   "display_name": "Python 3",
   "language": "python",
   "name": "python3"
  },
  "language_info": {
   "codemirror_mode": {
    "name": "ipython",
    "version": 3
   },
   "file_extension": ".py",
   "mimetype": "text/x-python",
   "name": "python",
   "nbconvert_exporter": "python",
   "pygments_lexer": "ipython3",
   "version": "3.6.8"
  }
 },
 "nbformat": 4,
 "nbformat_minor": 5
}
