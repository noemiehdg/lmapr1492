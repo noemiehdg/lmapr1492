{
 "cells": [
  {
   "cell_type": "markdown",
   "id": "romantic-ability",
   "metadata": {},
   "source": [
    "LATTICE \n",
    "=======\n",
    "\n",
    "Dans ce notebook, nous allons déterminer les vecteurs de bases des ses réseaux direct et réciproque, son type de maille, son système cristallin, ainsi que son groupe ponctuel. "
   ]
  },
  {
   "cell_type": "code",
   "execution_count": 2,
   "id": "dietary-companion",
   "metadata": {},
   "outputs": [],
   "source": [
    "from pymatgen.ext.matproj import MPRester\n",
    "from pymatgen.io.cif import CifWriter\n",
    "from pymatgen.symmetry.analyzer import SpacegroupAnalyzer \n",
    "\n",
    "#On obtient la structure du cristal grâce à son Materials Project id\n",
    "with MPRester(\"k7Oj07sVAFLX1l2ahe\") as m:\n",
    "    structure = m.get_structure_by_material_id(\"mp-15790\")\n",
    "\n"
   ]
  },
  {
   "cell_type": "markdown",
   "id": "infectious-compression",
   "metadata": {},
   "source": [
    "1) Vecteurs de base des réseaux directs et réciproques\n",
    "------------------------------------------------------\n"
   ]
  },
  {
   "cell_type": "code",
   "execution_count": 6,
   "id": "hired-algebra",
   "metadata": {},
   "outputs": [
    {
     "name": "stdout",
     "output_type": "stream",
     "text": [
      "Les vecteurs de base du réseau direct sont \n",
      " 6.280138 -1.945503 0.000000\n",
      "6.280138 1.945503 0.000000\n",
      "5.677447 0.000000 3.315375\n",
      "Les longueurs (en Å) des vecteurs a, b et c du réseau direct sont respectivement \n",
      " (6.574580992128167, 6.574580992128167, 6.574581038243729)\n"
     ]
    }
   ],
   "source": [
    "#On crée un lattice pou le réseau direct et les longueurs des vect.\n",
    "vect_direct = structure.lattice\n",
    "long_vect_abc = vect_direct.abc\n",
    "\n",
    "print(\"Les vecteurs de base du réseau direct sont \\n\", vect_direct)\n",
    "print(\"Les longueurs (en Å) des vecteurs a, b et c du réseau direct sont respectivement \\n\", long_vect_abc)\n"
   ]
  },
  {
   "cell_type": "code",
   "execution_count": 7,
   "id": "surprised-feeding",
   "metadata": {},
   "outputs": [
    {
     "name": "stdout",
     "output_type": "stream",
     "text": [
      "Les vecteurs de base du réseau réciproques sont \n",
      " 0.500243 -1.614797 -0.856645\n",
      "0.500243 1.614797 -0.856645\n",
      "0.000000 0.000000 1.895166\n",
      "Les longueurs (en Å) des vecteurs a*, b* et c* du réseau réciproque sont respectivement \n",
      " (1.8951659219072892, 1.8951659219072894, 1.8951657978900085)\n"
     ]
    }
   ],
   "source": [
    "#On fait de même pour le réseau réciproque\n",
    "vect_recip = vect_direct.reciprocal_lattice \n",
    "long_vect_abcprime = vect_recip.abc\n",
    "\n",
    "print(\"Les vecteurs de base du réseau réciproques sont \\n\", vect_recip)\n",
    "print(\"Les longueurs (en Å) des vecteurs a*, b* et c* du réseau réciproque sont respectivement \\n\", long_vect_abcprime)\n"
   ]
  },
  {
   "cell_type": "markdown",
   "id": "varied-magazine",
   "metadata": {},
   "source": [
    "2) Type de maille, système cristallin et groupe ponctuel\n",
    "--------------------------------------------------------"
   ]
  },
  {
   "cell_type": "code",
   "execution_count": 10,
   "id": "peripheral-modern",
   "metadata": {},
   "outputs": [
    {
     "name": "stdout",
     "output_type": "stream",
     "text": [
      "Le type de maille est rhombohedral\n",
      "Le système cristallin est trigonal\n",
      "Le groupe ponctuel du cristal est -3m\n"
     ]
    }
   ],
   "source": [
    "struct = SpacegroupAnalyzer (structure)\n",
    "\n",
    "#maille \n",
    "maille = struct.get_lattice_type()\n",
    "\n",
    "#système cristallin\n",
    "cristal = struct.get_crystal_system()\n",
    "\n",
    "#groupe ponctuel\n",
    "ponctuel = struct.get_point_group_symbol()\n",
    "\n",
    "\n",
    "print (\"Le type de maille est\", maille)\n",
    "print (\"Le système cristallin est\", cristal)\n",
    "print (\"Le groupe ponctuel du cristal est\", ponctuel)"
   ]
  },
  {
   "cell_type": "markdown",
   "id": "forward-swift",
   "metadata": {},
   "source": [
    "Références\n",
    "----------------\n",
    "\n",
    "- LMAPR1492 - Physique des matériaux 2020-2021 (Gian-Marco Rignanese)\n",
    "- Matérial's project - https://materialsproject.org/materials/mp-15790/\n",
    "- La documentation de pymatgen"
   ]
  },
  {
   "cell_type": "code",
   "execution_count": null,
   "id": "elegant-particular",
   "metadata": {},
   "outputs": [],
   "source": []
  }
 ],
 "metadata": {
  "kernelspec": {
   "display_name": "Python 3",
   "language": "python",
   "name": "python3"
  },
  "language_info": {
   "codemirror_mode": {
    "name": "ipython",
    "version": 3
   },
   "file_extension": ".py",
   "mimetype": "text/x-python",
   "name": "python",
   "nbconvert_exporter": "python",
   "pygments_lexer": "ipython3",
   "version": "3.6.8"
  }
 },
 "nbformat": 4,
 "nbformat_minor": 5
}
