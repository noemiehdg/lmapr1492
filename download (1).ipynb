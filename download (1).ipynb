{
 "cells": [
  {
   "cell_type": "code",
   "execution_count": 15,
   "id": "twenty-occurrence",
   "metadata": {},
   "outputs": [],
   "source": [
    "from pymatgen.io.cif import CifWriter\n",
    "from pymatgen.ext.matproj import MPRester"
   ]
  },
  {
   "cell_type": "code",
   "execution_count": 16,
   "id": "rapid-colleague",
   "metadata": {},
   "outputs": [],
   "source": [
    "with MPRester(\"k7Oj07sVAFLX1l2ahe\") as m:\n",
    "    structure = m.get_structure_by_material_id(\"mp-15790\")\n",
    "    \n",
    "w = CifWriter(structure,0.1)\n",
    "w.write_file('mp-15790_structure.cif')"
   ]
  },
  {
   "cell_type": "code",
   "execution_count": 12,
   "id": "short-method",
   "metadata": {},
   "outputs": [],
   "source": []
  }
 ],
 "metadata": {
  "kernelspec": {
   "display_name": "Python 3",
   "language": "python",
   "name": "python3"
  },
  "language_info": {
   "codemirror_mode": {
    "name": "ipython",
    "version": 3
   },
   "file_extension": ".py",
   "mimetype": "text/x-python",
   "name": "python",
   "nbconvert_exporter": "python",
   "pygments_lexer": "ipython3",
   "version": "3.6.8"
  }
 },
 "nbformat": 4,
 "nbformat_minor": 5
}
